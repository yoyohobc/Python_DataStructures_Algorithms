{
 "cells": [
  {
   "cell_type": "code",
   "execution_count": 2,
   "metadata": {},
   "outputs": [
    {
     "name": "stdout",
     "output_type": "stream",
     "text": [
      "4451090816\n",
      "4451090304\n",
      "-----\n",
      "4451090816\n",
      "4451090816\n",
      "-----\n",
      "4451090304\n",
      "4451090304\n",
      "{'s': [{'d': 5}, {'d': 5}]}\n"
     ]
    }
   ],
   "source": [
    "a={\"s\":[{\"d\":1},{\"d\":1}]}\n",
    "print(id(a[\"s\"][0]))\n",
    "print(id(a[\"s\"][1]))\n",
    "for k in a[\"s\"]:\n",
    "    print(\"-----\")\n",
    "    print(id(k))\n",
    "    k[\"d\"]=5\n",
    "    print(id(k))\n",
    "print(a)"
   ]
  },
  {
   "cell_type": "code",
   "execution_count": 1,
   "metadata": {},
   "outputs": [
    {
     "name": "stdout",
     "output_type": "stream",
     "text": [
      "4403853648 4403853648\n",
      "4403853648 4403853680\n"
     ]
    }
   ],
   "source": [
    "a = 2\n",
    "b = a\n",
    "print(id(a),id(b))\n",
    "b = 3\n",
    "print(id(a),id(b))"
   ]
  }
 ],
 "metadata": {
  "kernelspec": {
   "display_name": ".venv",
   "language": "python",
   "name": "python3"
  },
  "language_info": {
   "codemirror_mode": {
    "name": "ipython",
    "version": 3
   },
   "file_extension": ".py",
   "mimetype": "text/x-python",
   "name": "python",
   "nbconvert_exporter": "python",
   "pygments_lexer": "ipython3",
   "version": "3.9.6"
  },
  "orig_nbformat": 4
 },
 "nbformat": 4,
 "nbformat_minor": 2
}
