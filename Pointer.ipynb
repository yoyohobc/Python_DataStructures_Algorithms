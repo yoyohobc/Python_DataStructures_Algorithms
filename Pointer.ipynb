{
 "cells": [
  {
   "cell_type": "code",
   "execution_count": 4,
   "metadata": {},
   "outputs": [
    {
     "name": "stdout",
     "output_type": "stream",
     "text": [
      "4349297216\n",
      "4349296768\n",
      "-----\n",
      "4349297216\n",
      "4349297216\n",
      "-----\n",
      "4349296768\n",
      "4349296768\n",
      "{'s': [{'d': 5}, {'d': 5}]}\n"
     ]
    }
   ],
   "source": [
    "a={\"s\":[{\"d\":1},{\"d\":1}]}\n",
    "print(id(a[\"s\"][0]))\n",
    "print(id(a[\"s\"][1]))\n",
    "for k in a[\"s\"]:\n",
    "    print(\"-----\")\n",
    "    print(id(k))\n",
    "    k[\"d\"]=5\n",
    "    print(id(k))\n",
    "print(a)"
   ]
  },
  {
   "cell_type": "code",
   "execution_count": 3,
   "metadata": {},
   "outputs": [
    {
     "name": "stdout",
     "output_type": "stream",
     "text": [
      "4301257040 4301257040\n",
      "4301257040 4301257072\n",
      "2\n"
     ]
    }
   ],
   "source": [
    "a = 2\n",
    "b = a\n",
    "print(id(a),id(b))\n",
    "b = 3\n",
    "print(id(a),id(b))\n",
    "print(a)"
   ]
  },
  {
   "cell_type": "code",
   "execution_count": 2,
   "metadata": {},
   "outputs": [
    {
     "name": "stdout",
     "output_type": "stream",
     "text": [
      "3\n",
      "5\n"
     ]
    }
   ],
   "source": [
    "class t():\n",
    "    def __init__(self,v):\n",
    "        self.v = v\n",
    "\n",
    "a = t(3)\n",
    "b = a\n",
    "print(a.v)\n",
    "b.v = 5\n",
    "print(a.v)"
   ]
  }
 ],
 "metadata": {
  "kernelspec": {
   "display_name": ".venv",
   "language": "python",
   "name": "python3"
  },
  "language_info": {
   "codemirror_mode": {
    "name": "ipython",
    "version": 3
   },
   "file_extension": ".py",
   "mimetype": "text/x-python",
   "name": "python",
   "nbconvert_exporter": "python",
   "pygments_lexer": "ipython3",
   "version": "3.9.6"
  },
  "orig_nbformat": 4
 },
 "nbformat": 4,
 "nbformat_minor": 2
}
